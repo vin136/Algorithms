{
  "nbformat": 4,
  "nbformat_minor": 0,
  "metadata": {
    "colab": {
      "name": "Arrays.ipynb",
      "provenance": [],
      "authorship_tag": "ABX9TyMA6A0UBTFhmL/Iju8+lY75",
      "include_colab_link": true
    },
    "kernelspec": {
      "name": "python3",
      "display_name": "Python 3"
    },
    "language_info": {
      "name": "python"
    }
  },
  "cells": [
    {
      "cell_type": "markdown",
      "metadata": {
        "id": "view-in-github",
        "colab_type": "text"
      },
      "source": [
        "<a href=\"https://colab.research.google.com/github/vin136/Algorithms/blob/main/Arrays.ipynb\" target=\"_parent\"><img src=\"https://colab.research.google.com/assets/colab-badge.svg\" alt=\"Open In Colab\"/></a>"
      ]
    },
    {
      "cell_type": "code",
      "metadata": {
        "id": "578vv7rzDAzq"
      },
      "source": [
        "\"\"\"\n",
        "Given a string, find the length of the longest substring\n",
        "without repeating characters.\n",
        "Examples:\n",
        "Given \"abcabcbb\", the answer is \"abc\", which the length is 3.\n",
        "Given \"bbbbb\", the answer is \"b\", with the length of 1.\n",
        "Given \"pwwkew\", the answer is \"wke\", with the length of 3.\n",
        "Note that the answer must be a substring,\n",
        "\"pwke\" is a subsequence and not a substring.\n",
        "\"\"\"\n",
        "\n",
        "\n",
        "def ls(s):\n",
        "  str_dict = {}\n",
        "  max_l = 0\n",
        "  t_max = 0\n",
        "  t_start = 0\n",
        "  for ind,char in enumerate(s):\n",
        "      if (char not in str_dict) or (str_dict[char]<t_start) :\n",
        "          t_max += 1\n",
        "          str_dict[char] = ind\n",
        "      else:\n",
        "          t_max = (ind-str_dict[char])\n",
        "          t_start = str_dict[char]+1\n",
        "          str_dict[char] = ind\n",
        "      if t_max > max_l:\n",
        "          max_l = t_max\n",
        "  return max_l\n"
      ],
      "execution_count": 5,
      "outputs": []
    },
    {
      "cell_type": "code",
      "metadata": {
        "id": "29N-Y3dhVQKW",
        "outputId": "34b223e6-a28f-4814-9e83-eddc542bd2b5",
        "colab": {
          "base_uri": "https://localhost:8080/"
        }
      },
      "source": [
        "ls(\"abcdabcef8bb\")"
      ],
      "execution_count": 6,
      "outputs": [
        {
          "output_type": "execute_result",
          "data": {
            "text/plain": [
              "7"
            ]
          },
          "metadata": {
            "tags": []
          },
          "execution_count": 6
        }
      ]
    },
    {
      "cell_type": "code",
      "metadata": {
        "id": "tgBTNQYDVW_C"
      },
      "source": [
        "\"\"\"\n",
        "Find the index of 0 to be replaced with 1 to get\n",
        "longest continuous sequence\n",
        "of 1s in a binary array.\n",
        "Returns index of 0 to be\n",
        "replaced with 1 to get longest\n",
        "continuous sequence of 1s.\n",
        "If there is no 0 in array, then\n",
        "it returns -1.\n",
        "e.g.\n",
        "let input array = [1, 1, 1, 0, 1, 1, 1, 1, 1, 0, 1, 1, 1]\n",
        "If we replace 0 at index 3 with 1, we get the longest continuous\n",
        "sequence of 1s in the array.\n",
        "So the function return => 3\n",
        "\"\"\""
      ],
      "execution_count": null,
      "outputs": []
    }
  ]
}