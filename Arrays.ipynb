{
  "nbformat": 4,
  "nbformat_minor": 0,
  "metadata": {
    "colab": {
      "name": "Arrays.ipynb",
      "provenance": [],
      "authorship_tag": "ABX9TyMIQbh0Ey/4jxUYSUoskIHg",
      "include_colab_link": true
    },
    "kernelspec": {
      "name": "python3",
      "display_name": "Python 3"
    },
    "language_info": {
      "name": "python"
    }
  },
  "cells": [
    {
      "cell_type": "markdown",
      "metadata": {
        "id": "view-in-github",
        "colab_type": "text"
      },
      "source": [
        "<a href=\"https://colab.research.google.com/github/vin136/Algorithms/blob/main/Arrays.ipynb\" target=\"_parent\"><img src=\"https://colab.research.google.com/assets/colab-badge.svg\" alt=\"Open In Colab\"/></a>"
      ]
    },
    {
      "cell_type": "code",
      "metadata": {
        "id": "578vv7rzDAzq"
      },
      "source": [
        "\"\"\"\n",
        "Given a string, find the length of the longest substring\n",
        "without repeating characters.\n",
        "Examples:\n",
        "Given \"abcabcbb\", the answer is \"abc\", which the length is 3.\n",
        "Given \"bbbbb\", the answer is \"b\", with the length of 1.\n",
        "Given \"pwwkew\", the answer is \"wke\", with the length of 3.\n",
        "Note that the answer must be a substring,\n",
        "\"pwke\" is a subsequence and not a substring.\n",
        "\"\"\"\n",
        "\n",
        "\n",
        "def ls(s):\n",
        "  str_dict = {}\n",
        "  max_l = 0\n",
        "  t_max = 0\n",
        "  t_start = 0\n",
        "  for ind,char in enumerate(s):\n",
        "      if (char not in str_dict) or (str_dict[char]<t_start) :\n",
        "          t_max += 1\n",
        "          str_dict[char] = ind\n",
        "      else:\n",
        "          t_max = (ind-str_dict[char])\n",
        "          t_start = str_dict[char]+1\n",
        "          str_dict[char] = ind\n",
        "      if t_max > max_l:\n",
        "          max_l = t_max\n",
        "  return max_l\n"
      ],
      "execution_count": null,
      "outputs": []
    },
    {
      "cell_type": "code",
      "metadata": {
        "colab": {
          "base_uri": "https://localhost:8080/"
        },
        "id": "29N-Y3dhVQKW",
        "outputId": "34b223e6-a28f-4814-9e83-eddc542bd2b5"
      },
      "source": [
        "ls(\"abcdabcef8bb\")"
      ],
      "execution_count": null,
      "outputs": [
        {
          "output_type": "execute_result",
          "data": {
            "text/plain": [
              "7"
            ]
          },
          "metadata": {
            "tags": []
          },
          "execution_count": 6
        }
      ]
    },
    {
      "cell_type": "code",
      "metadata": {
        "id": "tgBTNQYDVW_C"
      },
      "source": [
        "\"\"\"\n",
        "Find the index of 0 to be replaced with 1 to get\n",
        "longest continuous sequence\n",
        "of 1s in a binary array.\n",
        "Returns index of 0 to be\n",
        "replaced with 1 to get longest\n",
        "continuous sequence of 1s.\n",
        "If there is no 0 in array, then\n",
        "it returns -1.\n",
        "e.g.\n",
        "let input array = [1, 1, 1, 0, 1, 1, 1, 1, 1, 0, 1, 1, 1]\n",
        "If we replace 0 at index 3 with 1, we get the longest continuous\n",
        "sequence of 1s in the array.\n",
        "So the function return => 3\n",
        "\"\"\"\n",
        "\n",
        "\n",
        "def l(arr):\n",
        "  max_l = 0\n",
        "  pos_zeros = [-1]\n",
        "  for ind,ele in enumerate(arr):\n",
        "    if ele == 0:\n",
        "      pos_zeros.append(ind)\n",
        "  pos_zeros.append(len(arr))\n",
        "  #print(pos_zeros)\n",
        "  m = 0\n",
        "  m_i = -1\n",
        "  t_m = 0\n",
        "  for ind,zero_id in enumerate(pos_zeros):\n",
        "    if ind == 0 or ind == (len(pos_zeros)-1):\n",
        "      continue\n",
        "    else:\n",
        "      t_m = (pos_zeros[ind+1]-(pos_zeros[ind-1]+1))\n",
        "      #print(t_m)\n",
        "      #print(f'index:{ind}')\n",
        "    if t_m>m:\n",
        "      m = t_m\n",
        "      m_i = pos_zeros[ind]\n",
        "  return m_i\n",
        "\n",
        "\n",
        "    \n",
        "  "
      ],
      "execution_count": null,
      "outputs": []
    },
    {
      "cell_type": "code",
      "metadata": {
        "id": "gSuTmJI0drcQ",
        "colab": {
          "base_uri": "https://localhost:8080/"
        },
        "outputId": "6d0bd120-5730-4010-d864-515685438788"
      },
      "source": [
        "l([1,0,1,1,0])"
      ],
      "execution_count": null,
      "outputs": [
        {
          "output_type": "execute_result",
          "data": {
            "text/plain": [
              "1"
            ]
          },
          "metadata": {
            "tags": []
          },
          "execution_count": 30
        }
      ]
    },
    {
      "cell_type": "code",
      "metadata": {
        "id": "-2jHmdmLd6-s"
      },
      "source": [
        "l = [0,9,7]"
      ],
      "execution_count": 7,
      "outputs": []
    },
    {
      "cell_type": "code",
      "metadata": {
        "id": "qDISrDDJhyw0"
      },
      "source": [
        "\n",
        "l.remove(0)"
      ],
      "execution_count": 8,
      "outputs": []
    },
    {
      "cell_type": "code",
      "metadata": {
        "id": "jeLK8diJf4ZO",
        "outputId": "7f73efc5-e8f3-460d-c0ac-f723158e5a98",
        "colab": {
          "base_uri": "https://localhost:8080/"
        }
      },
      "source": [
        "l"
      ],
      "execution_count": 9,
      "outputs": [
        {
          "output_type": "execute_result",
          "data": {
            "text/plain": [
              "[9, 7]"
            ]
          },
          "metadata": {
            "tags": []
          },
          "execution_count": 9
        }
      ]
    },
    {
      "cell_type": "code",
      "metadata": {
        "id": "iQ6WPLSkWwih"
      },
      "source": [
        "def permutations(lis):\n",
        "  perm = []\n",
        "  sz = len(lis)\n",
        "  def bk(partial_sol,nums):\n",
        "    if len(partial_sol) == sz:\n",
        "      perm.append(list(partial_sol))\n",
        "      return\n",
        "    else:\n",
        "      for num in nums:\n",
        "        partial_sol.append(num)\n",
        "        new_opt = [ele for ele in nums if ele != num]\n",
        "        bk(partial_sol,new_opt)\n",
        "  bk([],lis)\n",
        "  return perm"
      ],
      "execution_count": 13,
      "outputs": []
    },
    {
      "cell_type": "code",
      "metadata": {
        "id": "ULwJMBl5bIY5",
        "outputId": "5408fbf6-da4f-4b02-8ce9-39173d85c05c",
        "colab": {
          "base_uri": "https://localhost:8080/"
        }
      },
      "source": [
        "permutations([0,9,7])"
      ],
      "execution_count": 14,
      "outputs": [
        {
          "output_type": "execute_result",
          "data": {
            "text/plain": [
              "[[0, 9, 7]]"
            ]
          },
          "metadata": {
            "tags": []
          },
          "execution_count": 14
        }
      ]
    },
    {
      "cell_type": "code",
      "metadata": {
        "id": "HRSVt-kQeoje",
        "outputId": "d7091f45-5fb5-467b-a97c-e0169b66562f",
        "colab": {
          "base_uri": "https://localhost:8080/"
        }
      },
      "source": [
        "def permute(nums):\n",
        "  perm = []\n",
        "  def bk(partial_sol,options):\n",
        "    if not options:\n",
        "      perm.append(list(partial_sol))\n",
        "      return\n",
        "    for i in range(len(options)):\n",
        "      bk(partial_sol+[options[i]],options[:i]+options[i+1:])\n",
        "  bk([],nums)\n",
        "  return perm\n",
        "\n",
        "permute([0,9,7])  \n"
      ],
      "execution_count": 17,
      "outputs": [
        {
          "output_type": "execute_result",
          "data": {
            "text/plain": [
              "[[0, 9, 7], [0, 7, 9], [9, 0, 7], [9, 7, 0], [7, 0, 9], [7, 9, 0]]"
            ]
          },
          "metadata": {
            "tags": []
          },
          "execution_count": 17
        }
      ]
    },
    {
      "cell_type": "code",
      "metadata": {
        "id": "u6Rceam4ieHo"
      },
      "source": [
        "class Solution:\n",
        "    def searchInsert(self, nums, target: int) -> int:\n",
        "        def bin_search(nums,start,end,ele):\n",
        "            while start<end:\n",
        "                mid = (end-start)//2\n",
        "                pos = start+mid\n",
        "                print(f'{start}{mid}{end}')\n",
        "                if nums[pos] == ele:\n",
        "                    return pos\n",
        "                elif nums[pos]<ele:\n",
        "                    if pos != end:\n",
        "                        start = pos+1\n",
        "                        end = end\n",
        "                    else:\n",
        "                        start = pos\n",
        "                        end = end\n",
        "                else:\n",
        "                    if pos!= start:\n",
        "                        start = start\n",
        "                        end = pos - 1\n",
        "                    else:\n",
        "                        start = start\n",
        "                        end = pos\n",
        "                \n",
        "                \n",
        "            return start\n",
        "        \n",
        "        return bin_search(nums,0,len(nums)-1,target)\n",
        "        "
      ],
      "execution_count": 14,
      "outputs": []
    },
    {
      "cell_type": "code",
      "metadata": {
        "id": "PudBgGKcDg4P",
        "outputId": "f155a07e-c33c-4d25-e20b-95f005826211",
        "colab": {
          "base_uri": "https://localhost:8080/"
        }
      },
      "source": [
        "s = Solution()\n",
        "s.searchInsert([1,3,5,6],5)"
      ],
      "execution_count": 15,
      "outputs": [
        {
          "output_type": "stream",
          "text": [
            "013\n",
            "203\n"
          ],
          "name": "stdout"
        },
        {
          "output_type": "execute_result",
          "data": {
            "text/plain": [
              "2"
            ]
          },
          "metadata": {
            "tags": []
          },
          "execution_count": 15
        }
      ]
    },
    {
      "cell_type": "code",
      "metadata": {
        "id": "YHypWPrEBDyU",
        "outputId": "e1053ad2-a35f-4a77-8998-09ddd25860d9",
        "colab": {
          "base_uri": "https://localhost:8080/"
        }
      },
      "source": [
        "bin_search([1,3,5,6],0,3,5)"
      ],
      "execution_count": 8,
      "outputs": [
        {
          "output_type": "stream",
          "text": [
            "013\n",
            "203\n"
          ],
          "name": "stdout"
        },
        {
          "output_type": "execute_result",
          "data": {
            "text/plain": [
              "2"
            ]
          },
          "metadata": {
            "tags": []
          },
          "execution_count": 8
        }
      ]
    },
    {
      "cell_type": "code",
      "metadata": {
        "id": "fEJqNR_CBNgB"
      },
      "source": [
        "class Solution:\n",
        "    def mySqrt(self, x: int) -> int:\n",
        "        def bin_s(start,end,target):\n",
        "            while start<end:\n",
        "                mid = start + (end-start)//2\n",
        "                #import pdb;pdb.set_trace()\n",
        "                sq = mid*mid \n",
        "                sq_n = (mid+1)*(mid+1)\n",
        "                print(f'mid:{mid},sq:{sq},target:{target}')\n",
        "                if sq == target or (sq<target and sq_n>target):\n",
        "                    return mid\n",
        "                elif sq > target:\n",
        "                    end = mid-1\n",
        "                else:\n",
        "                    start = mid+1\n",
        "                    \n",
        "        return bin_s(0,x,x)\n",
        "                    \n"
      ],
      "execution_count": 30,
      "outputs": []
    },
    {
      "cell_type": "markdown",
      "metadata": {
        "id": "DtVTa5LrKJ31"
      },
      "source": [
        "## Detour - Basic Sorting Algorithms"
      ]
    },
    {
      "cell_type": "code",
      "metadata": {
        "id": "aOm2In_tKFvt"
      },
      "source": [
        "# Insertion sort\n",
        "\n",
        "def insertion_sort(arr):\n",
        "  if len(arr)<2:\n",
        "    return arr\n",
        "  else:\n",
        "    for i in range(1,len(arr)):\n",
        "      for j in range(i,0,-1):\n",
        "        if arr[j]>=arr[j-1]:\n",
        "          continue\n",
        "        else:\n",
        "          arr[j],arr[j-1] = arr[j-1],arr[j]\n",
        "  return arr"
      ],
      "execution_count": 2,
      "outputs": []
    },
    {
      "cell_type": "code",
      "metadata": {
        "id": "ZcuLrBlIMX95",
        "outputId": "c8cc5114-845e-4272-a166-971cda7b4046",
        "colab": {
          "base_uri": "https://localhost:8080/"
        }
      },
      "source": [
        "insertion_sort([0,9,8,4,1,-1,-9])"
      ],
      "execution_count": 4,
      "outputs": [
        {
          "output_type": "execute_result",
          "data": {
            "text/plain": [
              "[-9, -1, 0, 1, 4, 8, 9]"
            ]
          },
          "metadata": {
            "tags": []
          },
          "execution_count": 4
        }
      ]
    },
    {
      "cell_type": "code",
      "metadata": {
        "id": "XkZa8kBtdG74"
      },
      "source": [
        "# Merge Sort\n",
        "\n",
        "def merge_sort(arr):\n",
        "  s = 0\n",
        "  e = len(arr)-1\n",
        "  def ms(arr,s,e):\n",
        "    if s<e:\n",
        "      mid = s + (e-s)//2\n",
        "      ms(arr,s,mid)\n",
        "      fh = [arr[i] for i in range(s,mid+1)]\n",
        "      fh.append(math.inf)\n",
        "      ms(arr,mid+1,e)\n",
        "      sh = [arr[i] for i in range(mid+1,e+1)]\n",
        "      sh.append(math.inf)\n",
        "      i,j = 0,0\n",
        "      k = 0\n",
        "      while k< (len(fh)+len(sh)-2):\n",
        "        if fh[i]>=sh[j]:\n",
        "          arr[s+k] = sh[j]\n",
        "          j += 1\n",
        "          k += 1\n",
        "        else:\n",
        "          arr[s+k] = fh[i]\n",
        "          i += 1\n",
        "          k += 1 \n",
        "    else:\n",
        "      return \n",
        "\n",
        "  ms(arr,s,e)\n",
        "  return arr"
      ],
      "execution_count": 16,
      "outputs": []
    },
    {
      "cell_type": "code",
      "metadata": {
        "id": "bKBv947UdbrI",
        "outputId": "6104f54e-99cd-4468-ec0a-cbe581e1cdff",
        "colab": {
          "base_uri": "https://localhost:8080/"
        }
      },
      "source": [
        "merge_sort([0,9,8,7])"
      ],
      "execution_count": 18,
      "outputs": [
        {
          "output_type": "execute_result",
          "data": {
            "text/plain": [
              "[0, 7, 8, 9]"
            ]
          },
          "metadata": {
            "tags": []
          },
          "execution_count": 18
        }
      ]
    },
    {
      "cell_type": "code",
      "metadata": {
        "id": "ouBf8Nl1fjhf"
      },
      "source": [
        "# Quick Sort\n"
      ],
      "execution_count": 17,
      "outputs": []
    },
    {
      "cell_type": "code",
      "metadata": {
        "id": "uELPe8UwfnuG"
      },
      "source": [
        "\n"
      ],
      "execution_count": 17,
      "outputs": []
    },
    {
      "cell_type": "code",
      "metadata": {
        "id": "xla94cRFeD26",
        "outputId": "72ba0918-9f87-4865-ab4b-6c0e542e845d",
        "colab": {
          "base_uri": "https://localhost:8080/"
        }
      },
      "source": [
        "a = [0,2]\n",
        "a == [0,2]"
      ],
      "execution_count": 6,
      "outputs": [
        {
          "output_type": "execute_result",
          "data": {
            "text/plain": [
              "True"
            ]
          },
          "metadata": {
            "tags": []
          },
          "execution_count": 6
        }
      ]
    },
    {
      "cell_type": "code",
      "metadata": {
        "id": "HN4l54iDge6Z"
      },
      "source": [
        "import math\n",
        "neg_ing = -1*math.inf"
      ],
      "execution_count": 9,
      "outputs": []
    },
    {
      "cell_type": "code",
      "metadata": {
        "id": "6ja47GU7eFtY",
        "outputId": "8b6882ed-bdca-44a2-93d1-c070555111eb",
        "colab": {
          "base_uri": "https://localhost:8080/"
        }
      },
      "source": [
        "neg_ing<8"
      ],
      "execution_count": 11,
      "outputs": [
        {
          "output_type": "execute_result",
          "data": {
            "text/plain": [
              "True"
            ]
          },
          "metadata": {
            "tags": []
          },
          "execution_count": 11
        }
      ]
    },
    {
      "cell_type": "code",
      "metadata": {
        "id": "Hsx26Tplr9xl"
      },
      "source": [
        ""
      ],
      "execution_count": null,
      "outputs": []
    }
  ]
}