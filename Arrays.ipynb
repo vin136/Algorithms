{
  "nbformat": 4,
  "nbformat_minor": 0,
  "metadata": {
    "colab": {
      "name": "Arrays.ipynb",
      "provenance": [],
      "authorship_tag": "ABX9TyNJk+4ZAEZVV+LrKHVQ+Kq1",
      "include_colab_link": true
    },
    "kernelspec": {
      "name": "python3",
      "display_name": "Python 3"
    },
    "language_info": {
      "name": "python"
    }
  },
  "cells": [
    {
      "cell_type": "markdown",
      "metadata": {
        "id": "view-in-github",
        "colab_type": "text"
      },
      "source": [
        "<a href=\"https://colab.research.google.com/github/vin136/Algorithms/blob/main/Arrays.ipynb\" target=\"_parent\"><img src=\"https://colab.research.google.com/assets/colab-badge.svg\" alt=\"Open In Colab\"/></a>"
      ]
    },
    {
      "cell_type": "code",
      "metadata": {
        "id": "578vv7rzDAzq"
      },
      "source": [
        "\"\"\"\n",
        "Given a string, find the length of the longest substring\n",
        "without repeating characters.\n",
        "Examples:\n",
        "Given \"abcabcbb\", the answer is \"abc\", which the length is 3.\n",
        "Given \"bbbbb\", the answer is \"b\", with the length of 1.\n",
        "Given \"pwwkew\", the answer is \"wke\", with the length of 3.\n",
        "Note that the answer must be a substring,\n",
        "\"pwke\" is a subsequence and not a substring.\n",
        "\"\"\"\n",
        "\n",
        "\n",
        "def ls(s):\n",
        "  str_dict = {}\n",
        "  max_l = 0\n",
        "  t_max = 0\n",
        "  t_start = 0\n",
        "  for ind,char in enumerate(s):\n",
        "      if (char not in str_dict) or (str_dict[char]<t_start) :\n",
        "          t_max += 1\n",
        "          str_dict[char] = ind\n",
        "      else:\n",
        "          t_max = (ind-str_dict[char])\n",
        "          t_start = str_dict[char]+1\n",
        "          str_dict[char] = ind\n",
        "      if t_max > max_l:\n",
        "          max_l = t_max\n",
        "  return max_l\n"
      ],
      "execution_count": 5,
      "outputs": []
    },
    {
      "cell_type": "code",
      "metadata": {
        "colab": {
          "base_uri": "https://localhost:8080/"
        },
        "id": "29N-Y3dhVQKW",
        "outputId": "34b223e6-a28f-4814-9e83-eddc542bd2b5"
      },
      "source": [
        "ls(\"abcdabcef8bb\")"
      ],
      "execution_count": 6,
      "outputs": [
        {
          "output_type": "execute_result",
          "data": {
            "text/plain": [
              "7"
            ]
          },
          "metadata": {
            "tags": []
          },
          "execution_count": 6
        }
      ]
    },
    {
      "cell_type": "code",
      "metadata": {
        "id": "tgBTNQYDVW_C"
      },
      "source": [
        "\"\"\"\n",
        "Find the index of 0 to be replaced with 1 to get\n",
        "longest continuous sequence\n",
        "of 1s in a binary array.\n",
        "Returns index of 0 to be\n",
        "replaced with 1 to get longest\n",
        "continuous sequence of 1s.\n",
        "If there is no 0 in array, then\n",
        "it returns -1.\n",
        "e.g.\n",
        "let input array = [1, 1, 1, 0, 1, 1, 1, 1, 1, 0, 1, 1, 1]\n",
        "If we replace 0 at index 3 with 1, we get the longest continuous\n",
        "sequence of 1s in the array.\n",
        "So the function return => 3\n",
        "\"\"\"\n",
        "\n",
        "\n",
        "def l(arr):\n",
        "  max_l = 0\n",
        "  pos_zeros = [-1]\n",
        "  for ind,ele in enumerate(arr):\n",
        "    if ele == 0:\n",
        "      pos_zeros.append(ind)\n",
        "  pos_zeros.append(len(arr))\n",
        "  #print(pos_zeros)\n",
        "  m = 0\n",
        "  m_i = -1\n",
        "  t_m = 0\n",
        "  for ind,zero_id in enumerate(pos_zeros):\n",
        "    if ind == 0 or ind == (len(pos_zeros)-1):\n",
        "      continue\n",
        "    else:\n",
        "      t_m = (pos_zeros[ind+1]-(pos_zeros[ind-1]+1))\n",
        "      #print(t_m)\n",
        "      #print(f'index:{ind}')\n",
        "    if t_m>m:\n",
        "      m = t_m\n",
        "      m_i = pos_zeros[ind]\n",
        "  return m_i\n",
        "\n",
        "\n",
        "    \n",
        "  "
      ],
      "execution_count": 29,
      "outputs": []
    },
    {
      "cell_type": "code",
      "metadata": {
        "id": "gSuTmJI0drcQ",
        "outputId": "6d0bd120-5730-4010-d864-515685438788",
        "colab": {
          "base_uri": "https://localhost:8080/"
        }
      },
      "source": [
        "l([1,0,1,1,0])"
      ],
      "execution_count": 30,
      "outputs": [
        {
          "output_type": "execute_result",
          "data": {
            "text/plain": [
              "1"
            ]
          },
          "metadata": {
            "tags": []
          },
          "execution_count": 30
        }
      ]
    },
    {
      "cell_type": "code",
      "metadata": {
        "id": "-2jHmdmLd6-s"
      },
      "source": [
        ""
      ],
      "execution_count": 26,
      "outputs": []
    },
    {
      "cell_type": "code",
      "metadata": {
        "id": "qDISrDDJhyw0",
        "outputId": "b229fa6a-8ddd-4d47-ca76-656474f7de79",
        "colab": {
          "base_uri": "https://localhost:8080/"
        }
      },
      "source": [
        "\"\"\"\n",
        "There is a parking lot with only one empty spot. Given the initial state\n",
        "of the parking lot and the final state. Each step we are only allowed to\n",
        "move a car\n",
        "out of its place and move it into the empty spot.\n",
        "The goal is to find out the least movement needed to rearrange\n",
        "the parking lot from the initial state to the final state.\n",
        "Say the initial state is an array:\n",
        "[1, 2, 3, 0, 4],\n",
        "where 1, 2, 3, 4 are different cars, and 0 is the empty spot.\n",
        "And the final state is\n",
        "[0, 3, 2, 1, 4].\n",
        "We can swap 1 with 0 in the initial array to get [0, 2, 3, 1, 4] and so on.\n",
        "Each step swap with 0 only.\n",
        "Edit:\n",
        "Now also prints the sequence of changes in states.\n",
        "Output of this example :-\n",
        "initial: [1, 2, 3, 0, 4]\n",
        "final:   [0, 3, 2, 1, 4]\n",
        "Steps =  4\n",
        "Sequence : \n",
        "0 2 3 1 4\n",
        "2 0 3 1 4\n",
        "2 3 0 1 4\n",
        "0 3 2 1 4\n",
        "\"\"\""
      ],
      "execution_count": 28,
      "outputs": [
        {
          "output_type": "execute_result",
          "data": {
            "text/plain": [
              "5"
            ]
          },
          "metadata": {
            "tags": []
          },
          "execution_count": 28
        }
      ]
    },
    {
      "cell_type": "code",
      "metadata": {
        "id": "jeLK8diJf4ZO"
      },
      "source": [
        ""
      ],
      "execution_count": null,
      "outputs": []
    }
  ]
}